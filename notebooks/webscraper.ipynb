{
 "cells": [
  {
   "cell_type": "code",
   "execution_count": 2,
   "id": "0aec3818-50a5-4e40-abfe-09dc0620e6c5",
   "metadata": {},
   "outputs": [
    {
     "name": "stdout",
     "output_type": "stream",
     "text": [
      "          Date  Holiday\n",
      "0   2020-01-01        1\n",
      "1   2020-01-02        0\n",
      "2   2020-01-03        0\n",
      "3   2020-01-04        0\n",
      "4   2020-01-05        1\n",
      "..         ...      ...\n",
      "726 2021-12-27        0\n",
      "727 2021-12-28        0\n",
      "728 2021-12-29        0\n",
      "729 2021-12-30        0\n",
      "730 2021-12-31        0\n",
      "\n",
      "[731 rows x 2 columns]\n"
     ]
    }
   ],
   "source": [
    "import sys\n",
    "sys.path.insert(1, '..\\src')\n",
    "from additionalFeatures import webscraper\n",
    "\n",
    "url = ['https://urlaubstage-planen.de/feiertage-deutschland/2020/hessen.htm','https://urlaubstage-planen.de/feiertage-deutschland/2021/hessen.htm']\n",
    "\n",
    "\n",
    "webscraper(url);\n",
    "\n",
    "\n",
    "\n",
    "\n",
    "\n",
    "\n"
   ]
  },
  {
   "cell_type": "code",
   "execution_count": null,
   "id": "9dabd84d-e26b-4091-9470-c118dae7267d",
   "metadata": {},
   "outputs": [],
   "source": []
  }
 ],
 "metadata": {
  "kernelspec": {
   "display_name": "Python 3",
   "language": "python",
   "name": "python3"
  },
  "language_info": {
   "codemirror_mode": {
    "name": "ipython",
    "version": 3
   },
   "file_extension": ".py",
   "mimetype": "text/x-python",
   "name": "python",
   "nbconvert_exporter": "python",
   "pygments_lexer": "ipython3",
   "version": "3.9.5"
  }
 },
 "nbformat": 4,
 "nbformat_minor": 5
}
